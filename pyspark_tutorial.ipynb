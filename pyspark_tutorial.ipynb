{
 "cells": [
  {
   "cell_type": "code",
   "execution_count": 1,
   "metadata": {},
   "outputs": [],
   "source": [
    "import findspark\n",
    "findspark.init()\n",
    "from pyspark.sql import SparkSession\n",
    "spark = SparkSession.builder.appName('Tutorial').getOrCreate()"
   ]
  },
  {
   "cell_type": "code",
   "execution_count": 2,
   "metadata": {},
   "outputs": [],
   "source": [
    "from pyspark.sql.functions import *\n",
    "from pyspark.sql import DataFrame"
   ]
  },
  {
   "cell_type": "markdown",
   "metadata": {},
   "source": [
    "The following variables are required to use FileSystem to scan directory"
   ]
  },
  {
   "cell_type": "code",
   "execution_count": 3,
   "metadata": {},
   "outputs": [],
   "source": [
    "URI           = spark.sparkContext._gateway.jvm.java.net.URI\n",
    "Path          = spark.sparkContext._gateway.jvm.org.apache.hadoop.fs.Path\n",
    "FileSystem    = spark.sparkContext._gateway.jvm.org.apache.hadoop.fs.FileSystem\n",
    "Configuration = spark.sparkContext._gateway.jvm.org.apache.hadoop.conf.Configuration\n",
    "FileStatus    = spark.sparkContext._gateway.jvm.org.apache.hadoop.fs.FileStatus"
   ]
  },
  {
   "cell_type": "markdown",
   "metadata": {},
   "source": [
    "Properties for comma delimited files"
   ]
  },
  {
   "cell_type": "code",
   "execution_count": 4,
   "metadata": {},
   "outputs": [],
   "source": [
    "properties = {\n",
    "    \"header\": \"true\",\n",
    "    \"delimiter\": \",\",\n",
    "    \"inferSchema\": \"false\",\n",
    "    \"ignoreLeadingWhiteSpace\": \"true\",\n",
    "    \"ignoreTrailingWhiteSpace\": \"true\",\n",
    "    \"quote\": \"\\\"\",\n",
    "    \"escape\": \"\\\"\"\n",
    "}"
   ]
  },
  {
   "cell_type": "markdown",
   "metadata": {},
   "source": [
    "Function: readFile\n",
    "3 input variables: path, properties and boolean if you want to create a source_path column\n",
    "Output: DataFrame"
   ]
  },
  {
   "cell_type": "code",
   "execution_count": 5,
   "metadata": {},
   "outputs": [],
   "source": [
    "# Task 1: Add the functionality to readFile to create an optional column called “source_path” that has the raw path of the input data.\n",
    "def readFile(dataFilePath, fileProperties):\n",
    "    inputDF = spark.read.format(\"csv\")\\\n",
    "        .option(\"quote\", \"\")\\\n",
    "        .option(\"header\", fileProperties.get(\"header\"))\\\n",
    "        .option(\"delimiter\", fileProperties.get(\"delimiter\"))\\\n",
    "        .option(\"inferSchema\", fileProperties.get(\"inferSchema\"))\\\n",
    "        .option(\"ignoreLeadingWhiteSpace\", fileProperties.get(\"ignoreLeadingWhiteSpace\"))\\\n",
    "        .option(\"ignoreTrailingWhiteSpace\", fileProperties.get(\"ignoreTrailingWhiteSpace\"))\\\n",
    "        .option(\"quote\", fileProperties.get(\"quote\"))\\\n",
    "        .option(\"escape\", fileProperties.get(\"escape\"))\\\n",
    "        .load(dataFilePath)\n",
    "        \n",
    "    return inputDF"
   ]
  },
  {
   "cell_type": "code",
   "execution_count": 6,
   "metadata": {},
   "outputs": [],
   "source": [
    "# Task 2: Create a function to dynamically read multiple files of the same data. Your end result should be 1 DataFrame\n"
   ]
  },
  {
   "cell_type": "code",
   "execution_count": 7,
   "metadata": {},
   "outputs": [],
   "source": [
    "#Step 1: Using the function created in task 2, read all NonEmployer Statistic files. The output should be in one DataFrame and include the “source_path” column.\n",
    "#Step 2: Rename columns “ST” and “CTY” to “STATE” and “COUNTY” respectively. Create a “YEAR” column by parsing the year from the file name (hint: regexp_extract may be useful)\n"
   ]
  },
  {
   "cell_type": "markdown",
   "metadata": {},
   "source": [
    "Add new properties for population table as it is '|' delimited opposed to ',' delimited"
   ]
  },
  {
   "cell_type": "code",
   "execution_count": 8,
   "metadata": {},
   "outputs": [],
   "source": [
    "popProperties = {\n",
    "    \"header\": \"true\",\n",
    "    \"delimiter\": \"|\",\n",
    "    \"inferSchema\": \"false\",\n",
    "    \"ignoreLeadingWhiteSpace\": \"true\",\n",
    "    \"ignoreTrailingWhiteSpace\": \"true\",\n",
    "    \"quote\": \"\\\"\",\n",
    "    \"escape\": \"\\\"\"\n",
    "}"
   ]
  },
    {
   "cell_type": "code",
   "execution_count": 9,
   "metadata": {},
   "outputs": [],
   "source": [
    "#Step 3: Read US Population Statistics data (hint: check delimiter)\n"
   ]
  },
  {
   "cell_type": "markdown",
   "metadata": {},
   "source": [
    "Task 3: Create a function/implement logic to unpivot/melt US Population Statistics data.\n",
    "\n",
    "      Current:\n",
    "       STATE|POP_2018|POP_2017\n",
    "           x|      20|      22\n",
    "      \n",
    "      We want:\n",
    "       STATE|YEAR|POP\n",
    "           x|2018| 20\n",
    "           x|2017| 22\n",
    "           \n"
    "Step 4: Population is currently broken down to a Town level, we want to aggregate this to a County level. To achieve this we need to group by STATE, COUNTY and YEAR and take the sum of populations.\n"
   ]
  },
  {
   "cell_type": "code",
   "execution_count": 10,
   "metadata": {},
   "outputs": [],
   "source": [
    "#Step 5: Read US States Mapping Table without source_path\n"
   ]
  },
  {
   "cell_type": "code",
   "execution_count": 11,
   "metadata": {},
   "outputs": [],
   "source": [
    "#Task 4: Execute a broadcast join to join US States onto the unpivoted US Population Statistics data. What does this type of join do? When should it be used?\n"
   ]
  },
  {
   "cell_type": "code",
   "execution_count": 12,
   "metadata": {},
   "outputs": [],
   "source": [
    "#Task 5: Execute a standard join to join the output of task 4 onto the output of Step 1 (join key “STATE”, “COUNTY”, “YEAR”). Identify what type of join spark has executed through either the UI or physical plan (step.explain())\n"
   ]
  },
  {
   "cell_type": "code",
   "execution_count": 13,
   "metadata": {},
   "outputs": [],
   "source": [
    "#Task 6: Write Output to Parquet file partitioned by “STNAME” (path output/tutorial.parq) \n"
   ]
  }
 ],
 "metadata": {
  "kernelspec": {
   "display_name": "Python 2",
   "language": "python",
   "name": "python2"
  },
  "language_info": {
   "codemirror_mode": {
    "name": "ipython",
    "version": 2
   },
   "file_extension": ".py",
   "mimetype": "text/x-python",
   "name": "python",
   "nbconvert_exporter": "python",
   "pygments_lexer": "ipython2",
   "version": "2.7.16"
  }
 },
 "nbformat": 4,
 "nbformat_minor": 2
}
